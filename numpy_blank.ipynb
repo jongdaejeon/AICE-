{
  "nbformat": 4,
  "nbformat_minor": 0,
  "metadata": {
    "colab": {
      "provenance": [],
      "toc_visible": true,
      "private_outputs": true
    },
    "kernelspec": {
      "name": "python3",
      "display_name": "Python 3"
    },
    "language_info": {
      "name": "python"
    },
    "gpuClass": "standard"
  },
  "cells": [
    {
      "cell_type": "code",
      "metadata": {
        "id": "O80mn6FM3sem"
      },
      "source": [
        "import numpy as np\n",
        "import matplotlib.pyplot as plt\n",
        "import pandas as pd\n",
        "\n",
        "# numpy 출력 형식 지정\n",
        "np.set_printoptions(precision=4, linewidth=150)"
      ],
      "execution_count": null,
      "outputs": []
    },
    {
      "cell_type": "markdown",
      "metadata": {
        "id": "c9GhfzAs2yMm"
      },
      "source": [
        "## Numpy"
      ]
    },
    {
      "cell_type": "markdown",
      "metadata": {
        "id": "ESPAHZWo27zB"
      },
      "source": [
        "### ndarray 기본생성\n",
        "\n",
        "- numpy 어레이는 파이썬 리스트로 부터 `np.array()`를 써서 생성할 수 있습니다.\n",
        "\n",
        "- 이름이 기본적으로 `ndarray`이니 만큼 숫자들이 늘어선 방향이 여러개가 되는, 다시말해 다차원 어레이를 기본으로 지원합니다."
      ]
    },
    {
      "cell_type": "code",
      "source": [
        "[ [1, 2, 3], [3,4] ]"
      ],
      "metadata": {
        "id": "HXZCDFYM4u2s"
      },
      "execution_count": null,
      "outputs": []
    },
    {
      "cell_type": "code",
      "metadata": {
        "id": "wPEzISSI4xHz"
      },
      "source": [
        "# 기본생성\n",
        "A = np.array([[1, 2], [3, 4]])\n",
        "A.ndim"
      ],
      "execution_count": null,
      "outputs": []
    },
    {
      "cell_type": "code",
      "source": [
        "# list->array\n",
        "L = [1,2,3,4,5]\n",
        "np.array(L)"
      ],
      "metadata": {
        "id": "hmpOTNz-Vjix"
      },
      "execution_count": null,
      "outputs": []
    },
    {
      "cell_type": "markdown",
      "source": [
        "- 그외 편의 함수를 많이 제공하는데 `ones`, `zeros`, `eye`따위가 있습니다."
      ],
      "metadata": {
        "id": "aO-hiKHDHXpE"
      }
    },
    {
      "cell_type": "code",
      "source": [
        "# ones\n",
        "np.ones((2,3,2))"
      ],
      "metadata": {
        "id": "4TNwIhI6VCG3"
      },
      "execution_count": null,
      "outputs": []
    },
    {
      "cell_type": "code",
      "source": [
        "# zeros\n",
        "np.zeros((3,4))"
      ],
      "metadata": {
        "id": "9s1Vq7YjHyJC"
      },
      "execution_count": null,
      "outputs": []
    },
    {
      "cell_type": "code",
      "source": [
        "# eye\n",
        "np.eye(5)"
      ],
      "metadata": {
        "id": "aoAuKqaQVaNJ"
      },
      "execution_count": null,
      "outputs": []
    },
    {
      "cell_type": "markdown",
      "source": [
        "- 또 어레이의 요소를 랜덤으로 채워주는 함수를 많이 사용합니다."
      ],
      "metadata": {
        "id": "G74E3aTsHheL"
      }
    },
    {
      "cell_type": "code",
      "metadata": {
        "id": "yeZYgOjj4xCa"
      },
      "source": [
        "# 랜덤으로 생성\n",
        "np.random.rand(10)\n",
        "np.random.randint(1, 11, 9)\n"
      ],
      "execution_count": null,
      "outputs": []
    },
    {
      "cell_type": "code",
      "source": [
        "# 어레이 만들기 실습\n"
      ],
      "metadata": {
        "id": "zNXlNNV769gb"
      },
      "execution_count": null,
      "outputs": []
    },
    {
      "cell_type": "markdown",
      "metadata": {
        "id": "9mW7fYyS2_7j"
      },
      "source": [
        "### ndarray 연산\n",
        "\n",
        "- `ndarray`에 대한 사칙연산은 기본적으로 요소별 연산이 수행됩니다."
      ]
    },
    {
      "cell_type": "code",
      "metadata": {
        "id": "vn-r6lW_5ESp"
      },
      "source": [
        "A = np.array([[1,3,4], [5,3,4], [4,5,2]])\n",
        "B = np.array([[5,7,3], [2,1,1], [5,6,3]])"
      ],
      "execution_count": null,
      "outputs": []
    },
    {
      "cell_type": "code",
      "source": [
        "print(A)\n",
        "print(B)"
      ],
      "metadata": {
        "id": "WB-N2yxjJQ-h"
      },
      "execution_count": null,
      "outputs": []
    },
    {
      "cell_type": "code",
      "metadata": {
        "id": "OzPE3FMd51LA"
      },
      "source": [
        "# 덧셈\n",
        "A+B # element wise"
      ],
      "execution_count": null,
      "outputs": []
    },
    {
      "cell_type": "code",
      "metadata": {
        "id": "q4OYMi-051EG"
      },
      "source": [
        "# 뺄셈\n",
        "A-B"
      ],
      "execution_count": null,
      "outputs": []
    },
    {
      "cell_type": "code",
      "metadata": {
        "id": "XBYDEC5Y53Pb"
      },
      "source": [
        "# 나눗셈\n",
        "A/B"
      ],
      "execution_count": null,
      "outputs": []
    },
    {
      "cell_type": "code",
      "metadata": {
        "id": "8q_mmxLw5Oxx"
      },
      "source": [
        "# 곱셈: 곱은 행렬곱이 아님\n",
        "A*B"
      ],
      "execution_count": null,
      "outputs": []
    },
    {
      "cell_type": "markdown",
      "source": [
        "- 곱셈의 경우 기본적으로 요소별 곱셈이 수행되지만 앞으로 자주 사용하게 될 연산은 행렬곱이므로 행렬곱을 수행하고 싶다면 `np.dot()`를 사용해야 합니다.\n",
        "\n",
        "- 도트(내적,점곱)연산은 숫자 여러개가 들어있는 두 벡터를 곱하는 연산으로 각 벡터에 같은 위치에 있는 숫자를 서로 곱하고 그 결과를 모두 더해서 숫자 하나로 만드는 연산입니다.\n",
        "\n",
        "- 아래 파이썬 리스트로 간단히 내적을 수행하는 코드가 있습니다."
      ],
      "metadata": {
        "id": "eZBfmuKVJVyJ"
      }
    },
    {
      "cell_type": "code",
      "source": [
        "foo = [1,2,3,4, 5]\n",
        "bar = [6,7,8,9,10]\n",
        "#      6 14 24 36 50\n",
        "inner_prod = 0.0\n",
        "\n",
        "for f, b in zip(foo, bar):\n",
        "    inner_prod += f*b\n",
        "\n",
        "inner_prod"
      ],
      "metadata": {
        "id": "mMbv1raQJW4h"
      },
      "execution_count": null,
      "outputs": []
    },
    {
      "cell_type": "markdown",
      "source": [
        "- 지금 `A`, `B`에서 가능한 모든 가로, 세로 벡터를 뽑아서 모든 조합에 대해서 내적 연산을 하는 함수가 `np.dot()`입니다."
      ],
      "metadata": {
        "id": "WQI_CFJrJaqO"
      }
    },
    {
      "cell_type": "code",
      "metadata": {
        "id": "4YSc1UcB5TEf"
      },
      "source": [
        "# 행렬곱은 dot\n",
        "\n",
        "# [[1 3 4]\n",
        "#  [5 3 4]\n",
        "#  [4 5 2]]\n",
        "\n",
        "# [[5 7 3]\n",
        "#  [2 1 1]\n",
        "#  [5 6 3]]\n",
        "\n",
        "np.dot(A, B)"
      ],
      "execution_count": null,
      "outputs": []
    },
    {
      "cell_type": "markdown",
      "metadata": {
        "id": "A8d-s4lpUShl"
      },
      "source": [
        "### reshape\n",
        "\n",
        "- numpy 어레이는 숫자가 늘어선 개수를 조정해서 모양을 바꿀 수 있는데 `reshape()`을 사용합니다.\n",
        "\n",
        "- 이 때 바뀐 모양의 요소수와 바뀌기 전 모양의 요소수는 당연히 일치해야 합니다."
      ]
    },
    {
      "cell_type": "code",
      "source": [
        "# 요소 9개짜라 벡터를 3행, 3열 격자형 어레이로 만들기\n",
        "x = np.array([1,2,3,4,5,6,7,8,9])\n",
        "x.shape, x.ndim"
      ],
      "metadata": {
        "id": "k00dpbdvFJXK"
      },
      "execution_count": null,
      "outputs": []
    },
    {
      "cell_type": "code",
      "source": [
        "# 요소 9개짜라 벡터를 3행, 3열 격자형 어레이로 만들기\n",
        "x = np.array([1,2,3,4,5,6,7,8,9])\n",
        "print(x)\n",
        "\n",
        "x.reshape(3,3), x.reshape(3,3).ndim"
      ],
      "metadata": {
        "id": "7X3FdvFvKEOI"
      },
      "execution_count": null,
      "outputs": []
    },
    {
      "cell_type": "markdown",
      "source": [
        "- 이렇게 숫자가 늘어선 방향의 개수를 차원이라고 합니다.\n",
        "\n",
        "- 위 예에서는 1차원 어레이를 2차원 어레이로 바꾼 예입니다.\n",
        "\n",
        "- 각 방향으로 늘어선 숫자의 개수를 세어 어레이의 모양을 표시합니다. 위 예에서 모양이 바뀐 `x`의 모양은 `(3,3)`입니다.\n",
        "\n",
        "- 그리고 숫자가 늘어선 방향을 축axis라고 이야기 합니다. `(3,3)`에서는 축이 두개가 있는 것입니다.\n",
        "\n",
        "- 축의 순서가 중요한데 `(3,3)`에서 앞의 3은 숫자가 아래쪽으로 늘어선 개수를 말하며 이 축이 0번 축입니다. 뒤에 3은 숫자가 오른쪽으로 늘어선 개수를 말하며 이축은 1번 축입니다.\n",
        "\n",
        "- 아래 인덱싱에서 알아보겠지만 축의 순서대로 인덱싱을 하게 됩니다. 이는 파이썬 리스트와 크게 다르지 않은 일관된 규칙입니다. 단 리스트와 다르게 numpy 어레이는 다차원 즉 축이 많은 경우가 빈번하므로 축의 순서와 숫자가 늘어선 방향을 일치시켜 생각할 수 있어야 합니다.\n"
      ],
      "metadata": {
        "id": "NJKL3n8gNDRJ"
      }
    },
    {
      "cell_type": "code",
      "metadata": {
        "id": "4AOYjp_2UVcQ"
      },
      "source": [
        "# .shape를 사용해서 어레이 모양 찍어보기\n",
        "x = np.array([1,2,3])\n",
        "\n",
        "print(x) # x를 출력합니다.\n",
        "print(x.ndim) # x의 차원을 출력합니다.\n",
        "print(x.shape) # x의 실제 모양을 출력합니다."
      ],
      "execution_count": null,
      "outputs": []
    },
    {
      "cell_type": "markdown",
      "source": [
        "- 아래는 숫자 3개짜리 1차원 어레이에 추가 차원을 하나 더 생성하여 열 또는 행벡터로 만드는 예입니다."
      ],
      "metadata": {
        "id": "j8r2xE0pKjGP"
      }
    },
    {
      "cell_type": "code",
      "metadata": {
        "id": "S0wtJpa9UfXo"
      },
      "source": [
        "# 행벡터로 만들기\n",
        "x_row_vector1 = x.reshape(1, 3)\n",
        "print(x_row_vector1)\n",
        "print(x_row_vector1.ndim)\n",
        "print(x_row_vector1.shape)\n",
        "\n",
        "x_row_vector2 = x[np.newaxis, :]\n",
        "print(x_row_vector2)\n",
        "print(x_row_vector2.ndim)\n",
        "print(x_row_vector2.shape)"
      ],
      "execution_count": null,
      "outputs": []
    },
    {
      "cell_type": "code",
      "metadata": {
        "id": "f9cU39Y2YQBi"
      },
      "source": [
        "# 열벡터로 만들기\n",
        "x_col_vector1 = x.reshape(3,1)\n",
        "print(x_col_vector1)\n",
        "print(x_col_vector1.ndim)\n",
        "print(x_col_vector1.shape)\n",
        "\n",
        "x_col_vector2 = x[:, np.newaxis]\n",
        "print(x_col_vector2)\n",
        "print(x_col_vector2.ndim)\n",
        "print(x_col_vector2.shape)\n",
        "\n",
        "x.reshape(-1,1) # (3,) --> (3,1)"
      ],
      "execution_count": null,
      "outputs": []
    },
    {
      "cell_type": "code",
      "source": [
        "L = [1,2,3,4,5,6,7,8]\n",
        "\n",
        "# 1. L을 ndarray로 만들고\n",
        "a = np.array(L)\n",
        "a\n",
        "# 2. 그 ndarray를 (2,4)로 reshape 하기\n",
        "a.reshape(-1,4)"
      ],
      "metadata": {
        "id": "jwpovxEkG1dR"
      },
      "execution_count": null,
      "outputs": []
    },
    {
      "cell_type": "markdown",
      "source": [
        "- 다음 예는 2차원 어레이를 3차원으로 만들었다 다시 2차원으로 복원하는 것을 보여줍니다."
      ],
      "metadata": {
        "id": "lzvjp3w-K-zI"
      }
    },
    {
      "cell_type": "code",
      "metadata": {
        "id": "sEYJo3_9Ytys"
      },
      "source": [
        "# 2차원 이상 어레이에 대한 reshape\n",
        "A = np.array([[0,1,2],[3,4,5],[6,7,8],[9,10,11]])\n",
        "A"
      ],
      "execution_count": null,
      "outputs": []
    },
    {
      "cell_type": "code",
      "metadata": {
        "id": "VVK3cW47Y6l7"
      },
      "source": [
        "# (2,2,3)\n",
        "A_ = A.reshape(-1,2,3)\n",
        "A_"
      ],
      "execution_count": null,
      "outputs": []
    },
    {
      "cell_type": "code",
      "source": [
        "A_.reshape(-1,3)"
      ],
      "metadata": {
        "id": "ccDr76pTIzK_"
      },
      "execution_count": null,
      "outputs": []
    },
    {
      "cell_type": "markdown",
      "source": [
        "- `A`를 (1,2,3)으로 바꿀 수 있나요?"
      ],
      "metadata": {
        "id": "RoOpwiLvLg-V"
      }
    },
    {
      "cell_type": "code",
      "source": [
        "A.reshape(1,2,3)"
      ],
      "metadata": {
        "id": "OvVoPQafLiRm"
      },
      "execution_count": null,
      "outputs": []
    },
    {
      "cell_type": "markdown",
      "source": [
        "### 자주쓰는 기능 arange, linspace"
      ],
      "metadata": {
        "id": "jGdRxOGLQrl0"
      }
    },
    {
      "cell_type": "code",
      "source": [
        "# arange\n",
        "np.arange(0, 10)\n",
        "np.arange(1, 20, 2)"
      ],
      "metadata": {
        "id": "-_TeWeoFWylR"
      },
      "execution_count": null,
      "outputs": []
    },
    {
      "cell_type": "code",
      "source": [
        "# [Lab] x = np.array([1,2,3,4,5,6,7,8,9])\n",
        "# 와 동일한 결과를 np.arange()를써서 만들어보세요.\n",
        "x = np.arange(1, 10)\n",
        "x"
      ],
      "metadata": {
        "id": "RziPIKZGNpQs"
      },
      "execution_count": null,
      "outputs": []
    },
    {
      "cell_type": "code",
      "source": [
        "# linspace\n",
        "np.linspace(0, 10, 100)"
      ],
      "metadata": {
        "id": "fxInecmiXqOg"
      },
      "execution_count": null,
      "outputs": []
    },
    {
      "cell_type": "markdown",
      "metadata": {
        "id": "WJKAbvx23ERB"
      },
      "source": [
        "### 인덱싱과 슬라이싱\n",
        "\n",
        "- 파이썬 리스트에서 배웠던 인덱싱, 슬라이싱 기능이 그대로 적용됩니다."
      ]
    },
    {
      "cell_type": "code",
      "metadata": {
        "id": "jJgHjuYI5anL"
      },
      "source": [
        "# 기본 인덱싱과 슬라이싱\n",
        "A = np.array([1,2,3,4,5,6,7,8,9,10])\n",
        "\n",
        "# 두번째 요소를 출력합니다.\n",
        "print(A[1])\n",
        "\n",
        "# [1,2,3]을 출력합니다.\n",
        "print(A[:3])"
      ],
      "execution_count": null,
      "outputs": []
    },
    {
      "cell_type": "code",
      "metadata": {
        "id": "Jx1ly5Fx5gT3"
      },
      "source": [
        "# 스트라이드\n",
        "A[::3]"
      ],
      "execution_count": null,
      "outputs": []
    },
    {
      "cell_type": "code",
      "metadata": {
        "id": "MLPT1HdE5gQe"
      },
      "source": [
        "# 음수 스트라이드\n",
        "A[::-1]"
      ],
      "execution_count": null,
      "outputs": []
    },
    {
      "cell_type": "markdown",
      "source": [
        "- 2차원 이상 어레이에 대해서 각 인덱스를 지정할 자리에 `start:end:stride`형식을 지정할 수 있습니다.\n",
        "\n",
        "- 다음 예는 2차원 어레이 `A`에서 1번 축 방향으로 늘어선 모든 행을 선택하고 2번 축 방향으로 늘어선 열은 하나씩 건너뛰면서 선택하는 예입니다."
      ],
      "metadata": {
        "id": "0AcH09RBPWWH"
      }
    },
    {
      "cell_type": "code",
      "metadata": {
        "id": "J-qdh8hQS9fA"
      },
      "source": [
        "# 2차원 인덱싱\n",
        "A = np.arange(30).reshape(5,6)\n",
        "print(A)\n",
        "A[2:,3:] # A[:2, :3]"
      ],
      "execution_count": null,
      "outputs": []
    },
    {
      "cell_type": "code",
      "source": [
        "# [Lab] 위 어레이 A에 대해서\n",
        "# 행도 하나씩 건너뛰면서 선택하게 인덱싱해보세요.\n",
        "A[::2 , ::2]"
      ],
      "metadata": {
        "id": "ozNJtlhCPk3Z"
      },
      "execution_count": null,
      "outputs": []
    },
    {
      "cell_type": "markdown",
      "metadata": {
        "id": "JhiEuJIU3IVY"
      },
      "source": [
        "### 어레이 인덱싱"
      ]
    },
    {
      "cell_type": "code",
      "metadata": {
        "id": "oYlTBymF6AlP"
      },
      "source": [
        "A = np.arange(30).reshape(5,6)\n",
        "A"
      ],
      "execution_count": null,
      "outputs": []
    },
    {
      "cell_type": "code",
      "metadata": {
        "id": "Wq-8KLim6IMA"
      },
      "source": [
        "# 1 8 15 19 24\n",
        "# 모든행에 1,2,3,1,0번째 열 요소\n",
        "A[0, 1], A[1, 2], A[2, 3], A[3, 1], A[4, 0]\n",
        "\n",
        "# A[ [0,1,2,3,4],  [1,2,3,1,0] ]\n",
        "A[ np.arange(5), [1,2,3,1,0] ]\n",
        "# A[ :, [1,2,3,1,0] ] # 행:슬라이싱, 열:어레이 (X)"
      ],
      "execution_count": null,
      "outputs": []
    },
    {
      "cell_type": "markdown",
      "source": [
        "### 자주쓰는 기능 random.rand, randn, randint, choice"
      ],
      "metadata": {
        "id": "pVlxKYJeQRSw"
      }
    },
    {
      "cell_type": "code",
      "source": [
        "fig, ax = plt.subplots(figsize=(10,3), nrows=1, ncols=2, dpi=100)\n",
        "\n",
        "# rand 로 샘플링\n",
        "# np.random.seed(0)\n",
        "\n",
        "x = np.random.rand(10000)\n",
        "ax[0].hist(x, bins=20, color='C7', edgecolor='k')\n",
        "ax[0].set_title('rand()')\n",
        "\n",
        "# randn으로 샘플링\n",
        "x = np.random.randn(10000)\n",
        "ax[1].hist(x, bins=20, color='C7', edgecolor='k')\n",
        "ax[1].set_title('randn()')\n",
        "\n",
        "plt.show()"
      ],
      "metadata": {
        "id": "vkeTNj8OYRGU"
      },
      "execution_count": null,
      "outputs": []
    },
    {
      "cell_type": "code",
      "source": [
        "# randint\n",
        "np.random.randint(0,10,5)"
      ],
      "metadata": {
        "id": "wOXqTz3HapEo"
      },
      "execution_count": null,
      "outputs": []
    },
    {
      "cell_type": "code",
      "source": [
        "# choice\n",
        "#                숫자의 리스트              뽑을 개수\n",
        "np.random.choice(np.random.randint(0,10,5), 3)"
      ],
      "metadata": {
        "id": "7WK8J9tqavXx"
      },
      "execution_count": null,
      "outputs": []
    },
    {
      "cell_type": "code",
      "source": [
        "# 첫 인자는 그냥 최대 숫자를 지정할 수 있습니다.\n",
        "np.random.choice(10, 3)"
      ],
      "metadata": {
        "id": "DD5E4L_nSZBt"
      },
      "execution_count": null,
      "outputs": []
    },
    {
      "cell_type": "code",
      "source": [
        "# 같은 숫자는 뽑히지 않게 합니다.\n",
        "# 로또 번호 추출기\n",
        "np.random.choice(np.arange(1,46), 6, replace=False)"
      ],
      "metadata": {
        "id": "KWtvE7R7SZ7P"
      },
      "execution_count": null,
      "outputs": []
    },
    {
      "cell_type": "markdown",
      "source": [
        "### 어레이 인덱싱 응용 1: 데이터 셔플링\n",
        "\n",
        "- 어레이 인덱싱을 자주 적용하는 구체적인 예로 데이터를 무작위로 섞는 작업을 해보도록 하겠습니다.\n",
        "\n",
        "- 다음 코드는 어레이 인덱싱을 사용하지 않고 데이터를 셔플링하는 방법입니다."
      ],
      "metadata": {
        "id": "Ocuhiv3DRK3h"
      }
    },
    {
      "cell_type": "code",
      "source": [
        "# 100에서 200까지 숫자가 들어 있는 어레이를 만듭니다.\n",
        "# 이 숫자들이 데이터 셋이라고 간주합니다.\n",
        "X = np.arange(100, 201)\n",
        "\n",
        "# 대부분 데이터 셋안에 샘플들이 무작위로 배열되기를 원하기 때문에\n",
        "# 다음처럼 shuffle() 함수를 이용해서 데이터 셋 자체를 셔플링할 수 있습니다.\n",
        "np.random.shuffle(X)\n",
        "print(X)"
      ],
      "metadata": {
        "id": "9CZfaLNJRQFB"
      },
      "execution_count": null,
      "outputs": []
    },
    {
      "cell_type": "code",
      "source": [
        "X.shape"
      ],
      "metadata": {
        "id": "IgNF7hsbYAIX"
      },
      "execution_count": null,
      "outputs": []
    },
    {
      "cell_type": "code",
      "source": [
        "# 배열을 다시 만들고\n",
        "X = np.arange(100, 201)\n",
        "\n",
        "# 어레이의 인덱스를 섞어버립니다.\n",
        "sf_idx = np.arange(X.shape[0])\n",
        "np.random.shuffle(sf_idx)\n",
        "# sf_idx\n",
        "\n",
        "# 무작위로 섞인 인덱스를 사용해서 원본 데이터에서 인덱싱합니다.\n",
        "X2 = X[sf_idx]\n",
        "\n",
        "print(X2)\n",
        "print(X)"
      ],
      "metadata": {
        "id": "VDftIMLARuxb"
      },
      "execution_count": null,
      "outputs": []
    },
    {
      "cell_type": "markdown",
      "metadata": {
        "id": "WohS2ovwpYTb"
      },
      "source": [
        "### 어레이 인덱싱 응용 2: 임의점 선택\n",
        "\n",
        "- 앞서 알아본 `np.random.choice()`함수와 어레이 인덱싱을 사용하여 100개 점중에 무작위로 5개 점을 선택하는 문제를 풀어봅시다.\n",
        "\n",
        "- 아래 코드는 무작위 점 100개를 평면에 흩뿌린 그림입니다.\n",
        "\n",
        "- 그림을 그리는 코드는 이후 수업에서 따로 설명합니다."
      ]
    },
    {
      "cell_type": "code",
      "source": [
        "# 100행, 2열인 무작위 숫자를 가지는 어레이를 만듭니다.\n",
        "# 이 숫자는 x, y 좌표를 가지는 100개 점으로 생각할 수 있습니다.\n",
        "# randn을 사용했기 때문에 모든 점은 (0,0)인 원점 주변에 모여 있습니다.\n",
        "X = np.random.randn(100, 2) # N,D\n",
        "\n",
        "# 점의 좌표를 이용해서 그림을 그립니다.\n",
        "fig = plt.figure()\n",
        "ax = plt.axes()\n",
        "\n",
        "ax.plot(X[:,0], X[:,1], '.')\n",
        "\n",
        "plt.show()"
      ],
      "metadata": {
        "id": "7KNMkWdUTRWj"
      },
      "execution_count": null,
      "outputs": []
    },
    {
      "cell_type": "markdown",
      "source": [
        "- 여기서 하고 싶은 작업은 위 100개 점중에 무작위로 5개 점만 선택하는 것입니다.\n",
        "\n",
        "- `selected_idx`와 `selected_pts`에 적당히 코드를 완성하세요."
      ],
      "metadata": {
        "id": "sJpNq5zuThp1"
      }
    },
    {
      "cell_type": "code",
      "metadata": {
        "id": "V1tCQUO4prH3"
      },
      "source": [
        "X = np.random.randn(100, 2) # N,D\n",
        "\n",
        "##################################################\n",
        "# selected_idx를 이용해서 어레이 인덱싱하고 그림을 그리기\n",
        "# 임의의 점 5개 선택하기, replace=False: 비복원 추출\n",
        "\n",
        "# 아래 점 에서 임의로 5개를 선택해서 'o'로 그리기\n",
        "# np.random.choice(np.arange(1,46), 6, replace=False)\n",
        "selected_idx = np.random.choice(X.shape[0], 5, replace=False)\n",
        "print(selected_idx)\n",
        "\n",
        "# 이 시점에서 selected_idx에는\n",
        "# 선택된 점의 인덱스가 5개 들어 있습니다.\n",
        "# 이 인덱스의 리스트를 사용해서 X를 인덱싱하여\n",
        "# selected_pts를 초기화 합니다.\n",
        "selected_pts =  X[selected_idx]\n",
        "selected_pts\n",
        "\n",
        "# 기존 점과 선택된 점을 그립니다.\n",
        "# 매번 실행마다 선택된 점이 달라지게 됩니다.\n",
        "fig = plt.figure()\n",
        "ax = plt.axes()\n",
        "\n",
        "ax.plot(X[:,0], X[:,1], '.')\n",
        "ax.plot(selected_pts[:,0], selected_pts[:,1], 'o')\n",
        "\n",
        "plt.show()\n"
      ],
      "execution_count": null,
      "outputs": []
    },
    {
      "cell_type": "markdown",
      "metadata": {
        "id": "VlFOIRyI3KBO"
      },
      "source": [
        "### 불린 인덱싱\n",
        "\n",
        "\n",
        "- 어레이 인덱싱과 같은 맥락으로 요소의 위치에 `True`, `False`를 지정하여 `True`에 해당되는 요소만 지정할 수 있습니다."
      ]
    },
    {
      "cell_type": "code",
      "source": [
        "A = np.arange(30).reshape(5,6)\n",
        "A"
      ],
      "metadata": {
        "id": "-dOgT4l72s9W"
      },
      "execution_count": null,
      "outputs": []
    },
    {
      "cell_type": "code",
      "metadata": {
        "id": "bXyqIrTK6OLY"
      },
      "source": [
        "# 어레이에 조건을 걸면 모든 요소에 대해서 조건 결과를 돌려줍니다.\n",
        "A > 20"
      ],
      "execution_count": null,
      "outputs": []
    },
    {
      "cell_type": "code",
      "metadata": {
        "id": "V1vpav_x6Qea"
      },
      "source": [
        "# 조건으로 인덱싱\n",
        "A[ A > 20 ]"
      ],
      "execution_count": null,
      "outputs": []
    },
    {
      "cell_type": "markdown",
      "metadata": {
        "id": "i4kaldQD3NqF"
      },
      "source": [
        "### 전치\n",
        "\n",
        "- 딥러닝 코딩에서는 numpy 어레이의 축 순서를 바꾸는 작업이 빈번하게 수행됩니다.\n",
        "\n",
        "- 이런 작업을 전치라고 하는데 가장 간단한 2차원 어레이에 대해서 예를 보도록 하겠습니다."
      ]
    },
    {
      "cell_type": "code",
      "source": [
        "# 2행, 3열의 어레이에 대해서\n",
        "A = (np.arange(6)+1).reshape(2,3)\n",
        "A"
      ],
      "metadata": {
        "id": "EWlgruA-c_rG"
      },
      "execution_count": null,
      "outputs": []
    },
    {
      "cell_type": "code",
      "source": [
        "# 행을 열로 열을 행으로 자리 바꿈합니다.\n",
        "# 이는 0번 축을 1번 축자리로 1번 축을 0번 축 자리로 보내는 것을 의미합니다.\n",
        "A.transpose(1,0)\n",
        "A.T # 축약 표현"
      ],
      "metadata": {
        "id": "t4Q0qbMLc_ku"
      },
      "execution_count": null,
      "outputs": []
    },
    {
      "cell_type": "markdown",
      "source": [
        "- 이미지를 다루는 딥러닝 코드는 4차원 어레이를 주로 사용하고 텍스트를 다루는 딥러닝 코드는 3차원 어레이를 주로 사용하므로 조금 더 복잡한 3차원 어레이에 대해서 전치를 실습해봅시다."
      ],
      "metadata": {
        "id": "D0cWYHP0dT_j"
      }
    },
    {
      "cell_type": "code",
      "metadata": {
        "id": "UimEed1P6ivX"
      },
      "source": [
        "A = (np.arange(18)+1).reshape(2,3,3)\n",
        "A"
      ],
      "execution_count": null,
      "outputs": []
    },
    {
      "cell_type": "code",
      "source": [
        "B = A[0]\n",
        "B.transpose(1,0) # == B.T"
      ],
      "metadata": {
        "id": "LWdCAM4pOn6L"
      },
      "execution_count": null,
      "outputs": []
    },
    {
      "cell_type": "code",
      "metadata": {
        "id": "lVPLiuYP6r0q"
      },
      "source": [
        "# tr(2,0,1)\n",
        "A.transpose(2, 0, 1)"
      ],
      "execution_count": null,
      "outputs": []
    },
    {
      "cell_type": "code",
      "metadata": {
        "id": "VyyAtNF26rtA"
      },
      "source": [
        "#################################################\n",
        "# [Lab] A를 아래 모양으로 바꾸려면 어떻게 트랜스포즈 시켜야 하나요?\n",
        "#\n",
        "# array([[[ 1, 10],\n",
        "#         [ 2, 11],\n",
        "#         [ 3, 12]],\n",
        "\n",
        "#        [[ 4, 13],\n",
        "#         [ 5, 14],\n",
        "#         [ 6, 15]],\n",
        "\n",
        "#        [[ 7, 16],\n",
        "#         [ 8, 17],\n",
        "#         [ 9, 18]]])\n",
        "\n",
        "#################################################\n",
        "A.transpose(1, 2, 0)\n",
        "\n"
      ],
      "execution_count": null,
      "outputs": []
    },
    {
      "cell_type": "markdown",
      "metadata": {
        "id": "CtdMr80c8_Rs"
      },
      "source": [
        "#### 이미지에 적용\n",
        "\n",
        "- 조금 더 도전적인 과제로 이미지에 대한 전치를 알아보도록 하겠습니다.\n",
        "\n",
        "- 간단하게 이미지 데이터를 로딩하도록 하겠습니다."
      ]
    },
    {
      "cell_type": "code",
      "metadata": {
        "id": "7yc0UiAB8-ui"
      },
      "source": [
        "from sklearn.datasets import load_digits\n",
        "digits = load_digits()"
      ],
      "execution_count": null,
      "outputs": []
    },
    {
      "cell_type": "markdown",
      "source": [
        "- 이 시점에서  `digits.images`에는 8x8 크기를 가지는 흑백 숫자 이미지 밝기 값이 저장되어 있습니다.\n",
        "\n",
        "- 크기를 확인해보겠습니다."
      ],
      "metadata": {
        "id": "2GrU8O4oft6c"
      }
    },
    {
      "cell_type": "code",
      "source": [
        "digits.images.shape"
      ],
      "metadata": {
        "id": "7Uxt7cUafvRS"
      },
      "execution_count": null,
      "outputs": []
    },
    {
      "cell_type": "markdown",
      "source": [
        "- `digits.images`의 모양을 보고 이 3차원 어레이에 어떤식으로 이미지 데이터가 저장되어 있는지 상상이 되어야 합니다.\n",
        "\n",
        "- 1797개 이미지가 있고 각 이미지는 (8,8) 크기를 가진다는 의미입니다.\n",
        "\n",
        "- 첫번째 이미지를 확인해보겠습니다."
      ],
      "metadata": {
        "id": "dOVwvpBufwia"
      }
    },
    {
      "cell_type": "code",
      "source": [
        "digits.images[0]"
      ],
      "metadata": {
        "id": "YO9D-1BGfyHS"
      },
      "execution_count": null,
      "outputs": []
    },
    {
      "cell_type": "markdown",
      "source": [
        "- 숫자가 (8,8)형태로 저장 되어있고 이를 이미지로 표현하면 다음과 같습니다.\n",
        "\n",
        "- **그림을 그리는 코드는 다시 배우게 되니 지금은 그냥 셀을 실행하기만 하면 됩니다.**"
      ],
      "metadata": {
        "id": "kVk5kGVhfzhE"
      }
    },
    {
      "cell_type": "code",
      "source": [
        "plt.imshow(digits.images[0], cmap='binary')\n",
        "plt.show()"
      ],
      "metadata": {
        "id": "lAyOJYPZf1F7"
      },
      "execution_count": null,
      "outputs": []
    },
    {
      "cell_type": "markdown",
      "source": [
        "- 이제 이미지 샘플을 9장 가지고 오도록 하겠습니다.\n",
        "\n"
      ],
      "metadata": {
        "id": "WIhNnKxaf3dy"
      }
    },
    {
      "cell_type": "code",
      "source": [
        "mini_batch = digits.images[0:9]\n",
        "print(mini_batch.shape)"
      ],
      "metadata": {
        "id": "dWlXU2mofoHV"
      },
      "execution_count": null,
      "outputs": []
    },
    {
      "cell_type": "markdown",
      "source": [
        "- 이 9장의 이미지를 한장의 그림으로 표시하고 싶습니다."
      ],
      "metadata": {
        "id": "A6rHcI13f6NT"
      }
    },
    {
      "cell_type": "markdown",
      "source": [
        "\n",
        "\n",
        "![image.png](data:image/png;base64,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)\n",
        "\n"
      ],
      "metadata": {
        "id": "76eKXza5f70S"
      }
    },
    {
      "cell_type": "markdown",
      "source": [
        "- 위 그림처럼 9장 이미지를 가로로 길게 이어 붙여서 이미지 한장으로 표시할 수 있습니다.\n",
        "\n",
        "- 어레이 입장에서 이야기하면 (9,8,8)이 (8,72)인 어레이로 바뀌는 것입니다.\n",
        "\n",
        "- (9,8,8)을 `transpose()`, `reshape()`을 통해서 (8,72)로 바꾸는 코드를 완성해보세요."
      ],
      "metadata": {
        "id": "IHWhbvzaf7s6"
      }
    },
    {
      "cell_type": "code",
      "metadata": {
        "id": "9HHl666k9Lui"
      },
      "source": [
        "########################################\n",
        "# 여기 코드를 작성하세요\n",
        "# mini_batch (9,8,8)를 transpose, reshape -> (8,72)\n",
        "img_long = mini_batch.transpose(1, 0, 2).reshape(8, -1)\n",
        "########################################\n",
        "\n",
        "fig = plt.figure()\n",
        "ax = plt.axes()\n",
        "ax.imshow(img_long, cmap='binary')\n",
        "plt.show()"
      ],
      "execution_count": null,
      "outputs": []
    },
    {
      "cell_type": "markdown",
      "source": [
        "### 자주쓰는 기능 max, argmax"
      ],
      "metadata": {
        "id": "OslUBdvtQc1g"
      }
    },
    {
      "cell_type": "code",
      "source": [
        "# 1차원 어레이에 대해서\n",
        "x = np.random.rand(10)\n",
        "\n",
        "print(x)\n",
        "print(np.max(x))\n",
        "print(np.argmax(x))\n",
        "print(x[np.argmax(x)])"
      ],
      "metadata": {
        "id": "AHHGVhi0tyzD"
      },
      "execution_count": null,
      "outputs": []
    },
    {
      "cell_type": "code",
      "source": [
        "# 2차원 어레이에 대해서\n",
        "np.random.seed(0)\n",
        "\n",
        "x = np.random.rand(10).reshape(2,5)\n",
        "print(x)\n",
        "\n",
        "# 전체에 대해\n",
        "print(np.max(x))\n",
        "print(np.argmax(x))\n",
        "print(np.unravel_index( np.argmax(x), (2,5) ))\n",
        "\n"
      ],
      "metadata": {
        "id": "kqxgXEwFFp-V"
      },
      "execution_count": null,
      "outputs": []
    },
    {
      "cell_type": "code",
      "source": [
        "# axis=1\n",
        "print(np.max(x, axis=1))\n",
        "print(np.argmax(x, axis=1))"
      ],
      "metadata": {
        "id": "AYfJ91bmbF9R"
      },
      "execution_count": null,
      "outputs": []
    },
    {
      "cell_type": "code",
      "source": [
        "# axis=0\n",
        "print(np.max(x, axis=0))\n",
        "print(np.argmax(x, axis=0))"
      ],
      "metadata": {
        "id": "ozhGxl0mba9O"
      },
      "execution_count": null,
      "outputs": []
    },
    {
      "cell_type": "markdown",
      "metadata": {
        "id": "Caou712v3P8d"
      },
      "source": [
        "### 브로드캐스팅\n",
        "\n",
        "- 앞서 어레이에 대한 연산은 요소별로 적용된다고 이야기 했습니다. 그렇기 때문에 기본적으로 요소 개수가 같아야 연산이 수행됩니다.\n",
        "\n",
        "- 하지만 정해진 룰을 따라 두 어레이의 모양을 맞출 수 있으면 자동으로 모양이 확장되면서 연산이 일어나게 되는데 이런 연산을 브로드캐스팅boradcasting 이라 합니다.\n",
        "\n",
        "- 브로드캐스팅이 일어나는 순서는 다음과 같습니다.\n",
        "    - 두 어레이의 차원이 다르다면 작은 차원을 확장해서 큰차원에 맞추는 차원 맞추기가 일어납니다.\n",
        "    - 두 어레이의 차원이 맞춰지면 두 어레이의 모양을 같게 하기 위해 축 크기가 1인 차원을 복사 확장해서 서로 모양을 맞춥니다.\n",
        "\n",
        "- 구체적인 예로 알아보겠습니다.\n",
        "\n",
        "- 가장 간단한 (3,)와 ()인 상수를 곱하는 예입니다."
      ]
    },
    {
      "cell_type": "code",
      "metadata": {
        "id": "abn7xG-L6_6T"
      },
      "source": [
        "A = np.array([1,2,3])\n",
        "\n",
        "# 상수 곱하기\n",
        "A * np.array([2, 2, 2]) # 기본\n",
        "A * 2"
      ],
      "execution_count": null,
      "outputs": []
    },
    {
      "cell_type": "markdown",
      "source": [
        "- (3,)와 ()를 곱하려고 차원 맞추기가 일어납니다. ()이 (1,)이 됩니다.\n",
        "\n",
        "- (3,)에 모양을 맞추기 위해 (1,)가 (3,)로 늘어납니다. 이때 늘어나는 요소는 복사됩니다."
      ],
      "metadata": {
        "id": "W5u2rSsajYzG"
      }
    },
    {
      "cell_type": "code",
      "metadata": {
        "id": "ejceEk7n6_3o"
      },
      "source": [
        "np.random.seed(2)\n",
        "\n",
        "m, n = 4, 3\n",
        "A = np.random.randint(0, 10, m*n).reshape(m,n)\n",
        "b = np.random.randint(0, 10, n)\n",
        "print(A)\n",
        "print(b)"
      ],
      "execution_count": null,
      "outputs": []
    },
    {
      "cell_type": "markdown",
      "source": [
        "- (4,3)과 (3,)를 연산하기 위해 (3,)가 차원 확장됩니다.\n",
        "\n",
        "- (4,3), (1,3)으로 차원 맞추기가 되고 난 후 (1,3)이 (4,3)으로 확장됩니다. 이때 확장되는 요소들은 복사되어 늘어납니다.\n",
        "\n",
        "- (4,3)으로 모양이 맞춰졌으니 서로 연산을 수행합니다."
      ],
      "metadata": {
        "id": "rQyta1Ngjaf3"
      }
    },
    {
      "cell_type": "code",
      "metadata": {
        "id": "4q5SyRUE6_z3"
      },
      "source": [
        "# 2차원 어레이 * 1차원 어레이\n",
        "A * b"
      ],
      "execution_count": null,
      "outputs": []
    },
    {
      "cell_type": "markdown",
      "source": [
        "- 다른 몇가지 예를 보면서 브로드캐스팅이 어떻게 일어나는지 견고하게 이해해야만 합니다.\n",
        "\n",
        "\n",
        "- 아래 예는 열벡터 요소 4개짜리와 행벡터 요소 4개짜리를 빼는 연산입니다."
      ],
      "metadata": {
        "id": "muDUM58IjcNO"
      }
    },
    {
      "cell_type": "code",
      "metadata": {
        "id": "tNC4-3ES7YnE"
      },
      "source": [
        "np.random.seed(11)\n",
        "\n",
        "m, n = 4, 3\n",
        "a = np.random.randint(0, 10, m).reshape(-1,1)\n",
        "b = a.reshape(-1)\n",
        "print(a)\n",
        "print(b)"
      ],
      "execution_count": null,
      "outputs": []
    },
    {
      "cell_type": "code",
      "metadata": {
        "id": "byaQnPi07ac2"
      },
      "source": [
        "# 1차원 어레이 * 1차원 어레이\n",
        "a - b"
      ],
      "execution_count": null,
      "outputs": []
    },
    {
      "cell_type": "markdown",
      "source": [
        "- 앞쪽에 있는 모든 숫자와 뒤쪽에 있는 모든 숫자가 상호 조합되면서 모든 조합에 대해서 뺄셈이 일어났습니다!\n",
        "\n",
        "- 이걸 for 루프로 구현한다고 생각해보면 numpy 연산이 얼마나 효율적으로 작동하는지 충분히 상상할 수 있습니다."
      ],
      "metadata": {
        "id": "L2djbpP9_-VD"
      }
    },
    {
      "cell_type": "code",
      "metadata": {
        "id": "5_9eCVvpTAUd"
      },
      "source": [
        "# (4,3)*(3,1)?\n",
        "A = np.random.rand(12).reshape(4,3)\n",
        "B = np.random.rand(3).reshape(3,1)\n",
        "\n",
        "print(A)\n",
        "print(B)\n",
        "\n",
        "A*B"
      ],
      "execution_count": null,
      "outputs": []
    },
    {
      "cell_type": "markdown",
      "metadata": {
        "id": "ZzibuS6vuU-2"
      },
      "source": [
        "#### 브로드캐스팅 응용: kNN\n",
        "\n",
        "- 브로드캐스팅의 이해를 높이기 위해 구체적인 작업에 대해서 조금 더 복잡한 경우를 실습해보겠습니다.\n",
        "\n",
        "- 이전 어레이 인덱싱 예제와 동일한 구성을 사용합니다. 여기서는 20개 점중에 특정 점이 선택되면 그 점으로 부터 가장 가까운 점 N개를 선택하는 예제입니다.\n",
        "\n",
        "- 이 예제를 실습하기 위해서 추가로 알아야 하는 개념이 있습니다. 바로 두점 사이의 거리를 구하는 방법입니다.\n",
        "\n",
        "- 두 점 `p1`과 `p2`가 있을 때 이 두점 사이의 거리를 구하기 위해서는 두 점의 좌표값 차이를 제곱해서 더한 다음 제곱근을 취하는 것입니다.\n",
        "\n",
        "- 이는 피타고라스 정리로 설명됩니다."
      ]
    },
    {
      "cell_type": "code",
      "source": [
        "#              x,y\n",
        "p1 = np.array([0,0])\n",
        "p2 = np.array([1,1])\n",
        "\n",
        "\n",
        "#  두 점의 좌표 차이를 계산합니다.\n",
        "dp = p2-p1\n",
        "\n",
        "# 결과는 예상대로 sqrt(2)가 나와야 합니다.\n",
        "print( np.sqrt( dp[0]**2 + dp[1]**2 ) )"
      ],
      "metadata": {
        "id": "kgesIJXZkwv5"
      },
      "execution_count": null,
      "outputs": []
    },
    {
      "cell_type": "markdown",
      "source": [
        "-  방금 계산한 과정은 벡터의 노름Norm을 구하는 과정입니다. 즉 두 점을 잇는 직선 벡터 `dp`의 길이를 구하는 것입니다.\n",
        "\n",
        "- numpy에서 이 과정을 계산해주는 함수 `np.linalg.norm()`을 제공합니다.\n",
        "\n",
        "- 다음 셀을 실행해서 두 점의 거리가 제대로 계산되는지 확인하세요."
      ],
      "metadata": {
        "id": "A3onqNm2kyZN"
      }
    },
    {
      "cell_type": "code",
      "source": [
        "# p1 = np.array([-1,-1])\n",
        "# p2 = np.array([1,1])\n",
        "X[0]-X[10]\n",
        "np.linalg.norm(X[0]-X[10])"
      ],
      "metadata": {
        "id": "KiHl3Qp0ljOj"
      },
      "execution_count": null,
      "outputs": []
    },
    {
      "cell_type": "code",
      "source": [
        "X = np.random.rand(40).reshape(20,2)\n",
        "X.shape"
      ],
      "metadata": {
        "id": "-AgOmV04C0Rg"
      },
      "execution_count": null,
      "outputs": []
    },
    {
      "cell_type": "code",
      "source": [
        "N, D = X.shape\n",
        "\n",
        "fig = plt.figure()\n",
        "ax = plt.axes()\n",
        "ax.scatter(X[:,0], X[:,1], s=50, alpha=0.5)\n",
        "ax.axis('equal')\n",
        "plt.show()"
      ],
      "metadata": {
        "id": "pYYpGsFxDJLE"
      },
      "execution_count": null,
      "outputs": []
    },
    {
      "cell_type": "code",
      "metadata": {
        "id": "AIrDJbwruXtN"
      },
      "source": [
        "##################################################\n",
        "# 20개 점 X:(N,D)에 대해서\n",
        "# 0번째 점과 다른 모든 점과의 거리를 1행에 저장하고\n",
        "# 1번째 점과 다른 모든 점과의 거리를 2행에 저장하고\n",
        "# ...\n",
        "# N-1번째 점과 다른 모든점과의 거리를 N행에 저장하는\n",
        "# distances 어레이 (N,N)을 만드세요.\n",
        "\n",
        "# 단계 1: 우선 모든 점에서 모든 점을 뺄셈하는데\n",
        "# 상호 조합되는 모든 경우에 대해서 다 뺄셈을 수행합니다.\n",
        "# 이 결과를 diffs에 담습니다.\n",
        "# 앞서 브로드캐스팅 예에서 열벡터와 행벡터의 뺄셈을 주의깊게\n",
        "# 관찰하면 X를 어떻게 reshape해서 뺄셈해야된는지 힌트를 얻을 수 있습니다.\n",
        "# 앞 예서는 대상이 1차원이고 지금은 2차원이란 점만 다릅니다.\n",
        "# 여기 코드를 작성하세요.\n",
        "diffs = X.reshape(1, N, D) - X.reshape(N, 1, D)\n",
        "\n",
        "# 단계 2: diffs에 들어있는 숫자를 이용해서\n",
        "# 거리를 구합니다. diffs의 모양을 잘 파악하고\n",
        "# 어떤 축으로 norm을 적용할지 생각해보세요.\n",
        "# 여기 코드를 작성하세요.\n",
        "distances = np.linalg.norm(diffs, axis=2)\n",
        "print(distances.shape)\n",
        "\n",
        "##################################################\n",
        "# 계산된 거리 행렬을 axis=1방향으로 정렬\n",
        "knn = np.argsort(distances, axis=1)\n",
        "print(knn)"
      ],
      "execution_count": null,
      "outputs": []
    },
    {
      "cell_type": "markdown",
      "source": [
        "- 위에 출력된 어레이는 첫행부터 각과 가장 가까운 점의 인덱스를 담고 있습니다.\n",
        "\n",
        "- 예를 들어 1행은 0번 점과 가장 가까운 점은 0번 자기 자신부터 순서대로 15번, 10번 4번 점이라고 기록되어 있습니다.\n",
        "\n",
        "- 1번점은 1번 자기 자신이 가장 가까운 점이며 13, 11 순으로 가까운 점입니다."
      ],
      "metadata": {
        "id": "d-Cdp7N-Baq4"
      }
    },
    {
      "cell_type": "code",
      "metadata": {
        "id": "s6gMUzbRyxPz"
      },
      "source": [
        "# 선택된 점과 가장 가까운점 k개를 선택하려고 합니다.\n",
        "k = 3\n",
        "\n",
        "# 아무점이나 하나 선택\n",
        "idx = np.random.choice(X.shape[0], 1)\n",
        "x = X[idx]\n",
        "print(idx)\n",
        "# 선택된 점과 가장 가까운 세개 점\n",
        "nbs = knn[idx, 1:k+1]\n",
        "print(nbs)\n",
        "\n",
        "fig = plt.figure()\n",
        "ax = plt.axes()\n",
        "ax.scatter(X[:,0], X[:,1], s=50, alpha=0.5)\n",
        "ax.scatter(x[0][0], x[0][1], facecolor='none', edgecolors='k', s=300)\n",
        "ax.scatter(X[nbs,0], X[nbs,1], facecolor='none', edgecolors='r', s=300)\n",
        "ax.axis('equal')\n",
        "plt.show()"
      ],
      "execution_count": null,
      "outputs": []
    },
    {
      "cell_type": "markdown",
      "source": [
        "### 자주쓰는 기능 concatenate"
      ],
      "metadata": {
        "id": "x8lJD6i7RaVD"
      }
    },
    {
      "cell_type": "code",
      "source": [
        "# concatenate\n",
        "a = np.array([[1, 2], [3, 4]])\n",
        "b = np.array([[5, 6]])\n",
        "\n",
        "# print(a)\n",
        "# print(b)\n",
        "\n",
        "print( np.concatenate( (a,b) ) )\n",
        "print( np.concatenate( (a,b), axis=0 ) )\n",
        "print( np.concatenate( (a,b.T), axis=1 ) )\n",
        "print( np.concatenate( (a,b), axis=None ) )"
      ],
      "metadata": {
        "id": "i9BBz1thK6vs"
      },
      "execution_count": null,
      "outputs": []
    },
    {
      "cell_type": "markdown",
      "source": [
        "### 자주쓰는 기능 stack, hstack, vstack"
      ],
      "metadata": {
        "id": "Ps3W4wj8RfSh"
      }
    },
    {
      "cell_type": "code",
      "source": [
        "# stack\n",
        "a = np.array([1, 2, 3])\n",
        "b = np.array([4, 5, 6])\n",
        "\n",
        "np.stack((a,b))"
      ],
      "metadata": {
        "id": "EGsPJ5zgN1iT"
      },
      "execution_count": null,
      "outputs": []
    },
    {
      "cell_type": "code",
      "source": [
        "# hstack\n",
        "print(np.concatenate((a,b)))\n",
        "print(np.hstack((a,b)))"
      ],
      "metadata": {
        "id": "Mrk9GvziN_yq"
      },
      "execution_count": null,
      "outputs": []
    },
    {
      "cell_type": "code",
      "source": [
        "# hstack\n",
        "a = np.array([[1],[2],[3]])\n",
        "b = np.array([[4],[5],[6]])\n",
        "print(a)\n",
        "print(np.concatenate((a,b)))\n",
        "print(np.hstack((a,b)))"
      ],
      "metadata": {
        "id": "39tQ30svOLin"
      },
      "execution_count": null,
      "outputs": []
    },
    {
      "cell_type": "code",
      "source": [
        "# vstack\n",
        "a = np.array([1, 2, 3])\n",
        "b = np.array([4, 5, 6])\n",
        "\n",
        "np.vstack((a,b))"
      ],
      "metadata": {
        "id": "WaJBbsbSOiOh"
      },
      "execution_count": null,
      "outputs": []
    },
    {
      "cell_type": "code",
      "source": [
        "# vstack\n",
        "a = np.array([[1], [2], [3]])\n",
        "b = np.array([[4], [5], [6]])\n",
        "\n",
        "np.vstack((a,b))"
      ],
      "metadata": {
        "id": "dXvxheJjOlaE"
      },
      "execution_count": null,
      "outputs": []
    },
    {
      "cell_type": "markdown",
      "source": [
        "### 자주쓰는 기능 squeeze"
      ],
      "metadata": {
        "id": "5BElW3rnRkNb"
      }
    },
    {
      "cell_type": "code",
      "source": [
        "# squeeze\n",
        "x = np.array([[[0], [1], [2]]])\n",
        "print(x)\n",
        "print(x.shape)\n",
        "\n",
        "print(np.squeeze(x).shape)\n",
        "print(np.squeeze(x))\n",
        "print(np.squeeze(x, axis=0)) # (3,1)\n",
        "print(np.squeeze(x, axis=2)) # (1,3)"
      ],
      "metadata": {
        "id": "8H04AMOFPNjJ"
      },
      "execution_count": null,
      "outputs": []
    },
    {
      "cell_type": "code",
      "metadata": {
        "id": "ZmyOU0o2MnIY"
      },
      "source": [],
      "execution_count": null,
      "outputs": []
    }
  ]
}